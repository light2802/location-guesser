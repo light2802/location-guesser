{
 "cells": [
  {
   "cell_type": "code",
   "execution_count": 1,
   "id": "79091bf9",
   "metadata": {},
   "outputs": [
    {
     "name": "stderr",
     "output_type": "stream",
     "text": [
      "2021-07-18 20:52:09.010813: W tensorflow/stream_executor/platform/default/dso_loader.cc:64] Could not load dynamic library 'libcudart.so.11.0'; dlerror: libcudart.so.11.0: cannot open shared object file: No such file or directory\n",
      "2021-07-18 20:52:09.010908: I tensorflow/stream_executor/cuda/cudart_stub.cc:29] Ignore above cudart dlerror if you do not have a GPU set up on your machine.\n"
     ]
    }
   ],
   "source": [
    "from shapely.geometry import Point, Polygon\r\n",
    "from matplotlib import pyplot as plt\r\n",
    "from math import sin, cos, sqrt, atan2, radians\r\n",
    "\r\n",
    "import shapely\r\n",
    "import pickle\r\n",
    "import random\r\n",
    "import numpy as np\r\n",
    "import gmaps, os\r\n",
    "import tensorflow as tf\r\n",
    "from tensorflow.keras.preprocessing.image import load_img\r\n",
    "from tensorflow.keras.preprocessing.image import img_to_array\r\n",
    "from ipywidgets.embed import embed_minimal_html\r\n",
    "import webbrowser\r\n",
    "# The functions of Geoguessr class are loaded \r\n",
    "# from the geoLSTM.py file\r\n",
    "import geoLSTM"
   ]
  },
  {
   "cell_type": "code",
   "execution_count": 2,
   "id": "c0f8204a",
   "metadata": {},
   "outputs": [],
   "source": [
    "# directory containing data, train test file split\r\n",
    "DATADIR = \"../data extract/data\"\r\n",
    "# directory containing combined location data folders\r\n",
    "DATACOMBINED = DATADIR + \"/data combined/\"\r\n",
    "# directory containing polygon gird shapes\r\n",
    "POLYDIR = \"../data extract\" \r\n",
    "# directory to store/load model in/from\r\n",
    "MODELDIR = \"models\"\r\n",
    "\r\n",
    "# Directory structure to use on Colab\r\n",
    "# UNCOMMENT FOR COLAB:\r\n",
    "\r\n",
    "# !pip install gmaps\r\n",
    "# DATADIR = '/content/drive/MyDrive/location-guesser'\r\n",
    "# POLYDIR = '/content/drive/MyDrive/location-guesser'\r\n",
    "# DATACOMBINED = DATADIR + \"/data combined/\"\r\n",
    "# MODELDIR = '/content/drive/MyDrive/location-guesser/ML/models'\r\n",
    "# import sys\r\n",
    "# sys.path.append('/content/drive/MyDrive/location-guesser/ML')\r\n",
    "# import geoLSTM"
   ]
  },
  {
   "cell_type": "code",
   "execution_count": 3,
   "id": "e2444c97",
   "metadata": {},
   "outputs": [
    {
     "name": "stdout",
     "output_type": "stream",
     "text": [
      "Train files: 7, Test files: 1\n"
     ]
    }
   ],
   "source": [
    "# load training image file names\r\n",
    "TF = np.load(DATADIR + '/train.npy')\r\n",
    "# load testing image file names\r\n",
    "TESF = np.load(DATADIR +'/test.npy')\r\n",
    "print(\"Train files: {}, Test files: {}\".format(len(TF), len(TESF)))"
   ]
  },
  {
   "cell_type": "code",
   "execution_count": 4,
   "id": "8fd63569",
   "metadata": {},
   "outputs": [
    {
     "name": "stdout",
     "output_type": "stream",
     "text": [
      "93\n"
     ]
    },
    {
     "data": {
      "image/png": "[encoded data removed]",
      "text/plain": [
       "<Figure size 432x288 with 1 Axes>"
      ]
     },
     "metadata": {
      "needs_background": "light"
     },
     "output_type": "display_data"
    }
   ],
   "source": [
    "# load split grid file\r\n",
    "indPolyGrid = pickle.load(open(POLYDIR + \"/indPolyGrid.pkl\",'rb'))\r\n",
    "for i in indPolyGrid.values():\r\n",
    "    plt.plot(i[:,1],i[:,0], color='black')\r\n",
    "print(len(indPolyGrid))"
   ]
  },
  {
   "cell_type": "code",
   "execution_count": 5,
   "id": "37d3006c",
   "metadata": {},
   "outputs": [
    {
     "name": "stderr",
     "output_type": "stream",
     "text": [
      "2021-07-18 20:52:11.905362: W tensorflow/stream_executor/platform/default/dso_loader.cc:64] Could not load dynamic library 'libcuda.so.1'; dlerror: libcuda.so.1: cannot open shared object file: No such file or directory\n",
      "2021-07-18 20:52:11.905597: W tensorflow/stream_executor/cuda/cuda_driver.cc:326] failed call to cuInit: UNKNOWN ERROR (303)\n",
      "2021-07-18 20:52:11.905690: I tensorflow/stream_executor/cuda/cuda_diagnostics.cc:156] kernel driver does not appear to be running on this host (LAPTOP-ESSUPEF6): /proc/driver/nvidia/version does not exist\n",
      "2021-07-18 20:52:11.906388: I tensorflow/core/platform/cpu_feature_guard.cc:142] This TensorFlow binary is optimized with oneAPI Deep Neural Network Library (oneDNN) to use the following CPU instructions in performance-critical operations:  AVX2 FMA\n",
      "To enable them in other operations, rebuild TensorFlow with the appropriate compiler flags.\n"
     ]
    },
    {
     "name": "stdout",
     "output_type": "stream",
     "text": [
      "Model: \"sequential_1\"\n",
      "_________________________________________________________________\n",
      "Layer (type)                 Output Shape              Param #   \n",
      "=================================================================\n",
      "time_distributed (TimeDistri (None, 3, 512)            2994048   \n",
      "_________________________________________________________________\n",
      "lstm (LSTM)                  (None, 64)                147712    \n",
      "_________________________________________________________________\n",
      "dense (Dense)                (None, 1024)              66560     \n",
      "_________________________________________________________________\n",
      "dropout (Dropout)            (None, 1024)              0         \n",
      "_________________________________________________________________\n",
      "dense_1 (Dense)              (None, 512)               524800    \n",
      "_________________________________________________________________\n",
      "dropout_1 (Dropout)          (None, 512)               0         \n",
      "_________________________________________________________________\n",
      "dense_2 (Dense)              (None, 128)               65664     \n",
      "_________________________________________________________________\n",
      "dropout_2 (Dropout)          (None, 128)               0         \n",
      "_________________________________________________________________\n",
      "dense_3 (Dense)              (None, 64)                8256      \n",
      "_________________________________________________________________\n",
      "dense_4 (Dense)              (None, 327)               21255     \n",
      "=================================================================\n",
      "Total params: 3,828,295\n",
      "Trainable params: 3,826,759\n",
      "Non-trainable params: 1,536\n",
      "_________________________________________________________________\n"
     ]
    }
   ],
   "source": [
    "geo_model = geoLSTM.Geoguessr(useRestnet=False)"
   ]
  },
  {
   "cell_type": "code",
   "execution_count": 6,
   "id": "b8cd4a48",
   "metadata": {},
   "outputs": [
    {
     "name": "stdout",
     "output_type": "stream",
     "text": [
      "Getting data from directory: ../data extract/data/data combined/\n",
      "Read 2 points. Training now\n"
     ]
    },
    {
     "name": "stderr",
     "output_type": "stream",
     "text": [
      "2021-07-18 20:52:16.588593: I tensorflow/compiler/mlir/mlir_graph_optimization_pass.cc:176] None of the MLIR Optimization Passes are enabled (registered 2)\n",
      "2021-07-18 20:52:16.589494: I tensorflow/core/platform/profile_utils/cpu_utils.cc:114] CPU Frequency: 2496000000 Hz\n"
     ]
    },
    {
     "name": "stdout",
     "output_type": "stream",
     "text": [
      "Epoch 1/2\n"
     ]
    },
    {
     "name": "stderr",
     "output_type": "stream",
     "text": [
      "2021-07-18 20:52:18.438418: W tensorflow/core/framework/cpu_allocator_impl.cc:80] Allocation of 276480000 exceeds 10% of free system memory.\n",
      "2021-07-18 20:52:18.438553: W tensorflow/core/framework/cpu_allocator_impl.cc:80] Allocation of 276480000 exceeds 10% of free system memory.\n",
      "2021-07-18 20:52:19.304588: W tensorflow/core/framework/cpu_allocator_impl.cc:80] Allocation of 276480000 exceeds 10% of free system memory.\n",
      "2021-07-18 20:52:19.329341: W tensorflow/core/framework/cpu_allocator_impl.cc:80] Allocation of 276480000 exceeds 10% of free system memory.\n",
      "2021-07-18 20:52:21.491134: W tensorflow/core/framework/cpu_allocator_impl.cc:80] Allocation of 276480000 exceeds 10% of free system memory.\n"
     ]
    },
    {
     "name": "stdout",
     "output_type": "stream",
     "text": [
      "2/2 [==============================] - 29s 12s/step - loss: 5.6772 - categorical_accuracy: 0.0000e+00\n",
      "Epoch 2/2\n",
      "2/2 [==============================] - 26s 14s/step - loss: 5.6985 - categorical_accuracy: 0.0000e+00\n",
      "Training sucessfull!!\n",
      "\n",
      "Saving model 0 with loss 5.699 at models\n",
      "Read 2 points. Training now\n",
      "Epoch 1/2\n",
      "2/2 [==============================] - 26s 13s/step - loss: 5.8208 - categorical_accuracy: 0.0000e+00\n",
      "Epoch 2/2\n",
      "2/2 [==============================] - 27s 14s/step - loss: 5.9159 - categorical_accuracy: 0.0000e+00\n",
      "Training sucessfull!!\n",
      "\n",
      "Saving model 1 with loss 5.916 at models\n",
      "Read 2 points. Training now\n",
      "Epoch 1/2\n",
      "2/2 [==============================] - 26s 13s/step - loss: 5.3096 - categorical_accuracy: 0.5000\n",
      "Epoch 2/2\n",
      "2/2 [==============================] - 26s 13s/step - loss: 5.0186 - categorical_accuracy: 0.5000\n",
      "Training sucessfull!!\n",
      "\n",
      "Saving model 2 with loss 5.019 at models\n",
      "Read 1 points. Training now\n",
      "Epoch 1/2\n",
      "1/1 [==============================] - 13s 13s/step - loss: 5.1068 - categorical_accuracy: 1.0000\n",
      "Epoch 2/2\n",
      "1/1 [==============================] - 13s 13s/step - loss: 4.5872 - categorical_accuracy: 1.0000\n",
      "Training sucessfull!!\n",
      "\n",
      "Saving model 3 with loss 4.587 at models\n"
     ]
    },
    {
     "data": {
      "image/png": "[encoded data removed]",
      "text/plain": [
       "<Figure size 432x288 with 1 Axes>"
      ]
     },
     "metadata": {
      "needs_background": "light"
     },
     "output_type": "display_data"
    },
    {
     "data": {
      "image/png": "[encoded data removed]",
      "text/plain": [
       "<Figure size 432x288 with 1 Axes>"
      ]
     },
     "metadata": {
      "needs_background": "light"
     },
     "output_type": "display_data"
    }
   ],
   "source": [
    "geo_model.fit(TF, DATACOMBINED, \r\n",
    "      saveFolder=MODELDIR, \r\n",
    "      batchSize=2, \r\n",
    "      epochs=2,  \r\n",
    "      plot=True)"
   ]
  },
  {
   "cell_type": "code",
   "execution_count": 13,
   "id": "7d58df64",
   "metadata": {},
   "outputs": [
    {
     "name": "stdout",
     "output_type": "stream",
     "text": [
      "Loading model from models/model_5.916_1.h5\n",
      "Loaded model loss 5.916\n",
      "Model: \"sequential_1\"\n",
      "_________________________________________________________________\n",
      "Layer (type)                 Output Shape              Param #   \n",
      "=================================================================\n",
      "time_distributed (TimeDistri (None, 3, 512)            2994048   \n",
      "_________________________________________________________________\n",
      "lstm (LSTM)                  (None, 64)                147712    \n",
      "_________________________________________________________________\n",
      "dense (Dense)                (None, 1024)              66560     \n",
      "_________________________________________________________________\n",
      "dropout (Dropout)            (None, 1024)              0         \n",
      "_________________________________________________________________\n",
      "dense_1 (Dense)              (None, 512)               524800    \n",
      "_________________________________________________________________\n",
      "dropout_1 (Dropout)          (None, 512)               0         \n",
      "_________________________________________________________________\n",
      "dense_2 (Dense)              (None, 128)               65664     \n",
      "_________________________________________________________________\n",
      "dropout_2 (Dropout)          (None, 128)               0         \n",
      "_________________________________________________________________\n",
      "dense_3 (Dense)              (None, 64)                8256      \n",
      "_________________________________________________________________\n",
      "dense_4 (Dense)              (None, 327)               21255     \n",
      "=================================================================\n",
      "Total params: 3,828,295\n",
      "Trainable params: 3,826,759\n",
      "Non-trainable params: 1,536\n",
      "_________________________________________________________________\n"
     ]
    }
   ],
   "source": [
    "# modelName = '/restnet_5.738_19.h5'\r\n",
    "model_name = '/model_5.916_1.h5'\r\n",
    "geo_model = geoLSTM.Geoguessr.load(MODELDIR + model_name)"
   ]
  },
  {
   "cell_type": "code",
   "execution_count": 22,
   "id": "a0ded5c9",
   "metadata": {},
   "outputs": [
    {
     "data": {
      "image/png": "[encoded data removed]",
      "text/plain": [
       "<Figure size 432x288 with 1 Axes>"
      ]
     },
     "metadata": {
      "needs_background": "light"
     },
     "output_type": "display_data"
    },
    {
     "data": {
      "text/plain": [
       "0.0"
      ]
     },
     "execution_count": 22,
     "metadata": {},
     "output_type": "execute_result"
    }
   ],
   "source": [
    "geo_model.predictSingle(TESF[0], DATACOMBINED, ployGrid=indPolyGrid)"
   ]
  },
  {
   "cell_type": "code",
   "execution_count": 15,
   "id": "8749256a",
   "metadata": {},
   "outputs": [
    {
     "name": "stdout",
     "output_type": "stream",
     "text": [
      "Evaluated 0 out of 1 points\n"
     ]
    },
    {
     "data": {
      "text/plain": [
       "0.0"
      ]
     },
     "execution_count": 15,
     "metadata": {},
     "output_type": "execute_result"
    }
   ],
   "source": [
    "geo_model.evaluate(TESF, DATACOMBINED, indPolyGrid)"
   ]
  },
  {
   "cell_type": "code",
   "execution_count": 16,
   "id": "816073dc",
   "metadata": {},
   "outputs": [
    {
     "name": "stdout",
     "output_type": "stream",
     "text": [
      "Loading model from models/model_4.587_3.h5\n",
      "Loaded model loss 4.587\n",
      "Model: \"sequential_1\"\n",
      "_________________________________________________________________\n",
      "Layer (type)                 Output Shape              Param #   \n",
      "=================================================================\n",
      "time_distributed (TimeDistri (None, 3, 512)            2994048   \n",
      "_________________________________________________________________\n",
      "lstm (LSTM)                  (None, 64)                147712    \n",
      "_________________________________________________________________\n",
      "dense (Dense)                (None, 1024)              66560     \n",
      "_________________________________________________________________\n",
      "dropout (Dropout)            (None, 1024)              0         \n",
      "_________________________________________________________________\n",
      "dense_1 (Dense)              (None, 512)               524800    \n",
      "_________________________________________________________________\n",
      "dropout_1 (Dropout)          (None, 512)               0         \n",
      "_________________________________________________________________\n",
      "dense_2 (Dense)              (None, 128)               65664     \n",
      "_________________________________________________________________\n",
      "dropout_2 (Dropout)          (None, 128)               0         \n",
      "_________________________________________________________________\n",
      "dense_3 (Dense)              (None, 64)                8256      \n",
      "_________________________________________________________________\n",
      "dense_4 (Dense)              (None, 327)               21255     \n",
      "=================================================================\n",
      "Total params: 3,828,295\n",
      "Trainable params: 3,826,759\n",
      "Non-trainable params: 1,536\n",
      "_________________________________________________________________\n",
      "Loading model from models/model_5.019_2.h5\n",
      "Loaded model loss 5.019\n",
      "Model: \"sequential_1\"\n",
      "_________________________________________________________________\n",
      "Layer (type)                 Output Shape              Param #   \n",
      "=================================================================\n",
      "time_distributed (TimeDistri (None, 3, 512)            2994048   \n",
      "_________________________________________________________________\n",
      "lstm (LSTM)                  (None, 64)                147712    \n",
      "_________________________________________________________________\n",
      "dense (Dense)                (None, 1024)              66560     \n",
      "_________________________________________________________________\n",
      "dropout (Dropout)            (None, 1024)              0         \n",
      "_________________________________________________________________\n",
      "dense_1 (Dense)              (None, 512)               524800    \n",
      "_________________________________________________________________\n",
      "dropout_1 (Dropout)          (None, 512)               0         \n",
      "_________________________________________________________________\n",
      "dense_2 (Dense)              (None, 128)               65664     \n",
      "_________________________________________________________________\n",
      "dropout_2 (Dropout)          (None, 128)               0         \n",
      "_________________________________________________________________\n",
      "dense_3 (Dense)              (None, 64)                8256      \n",
      "_________________________________________________________________\n",
      "dense_4 (Dense)              (None, 327)               21255     \n",
      "=================================================================\n",
      "Total params: 3,828,295\n",
      "Trainable params: 3,826,759\n",
      "Non-trainable params: 1,536\n",
      "_________________________________________________________________\n",
      "Loading model from models/model_5.699_0.h5\n",
      "Loaded model loss 5.699\n",
      "Model: \"sequential_1\"\n",
      "_________________________________________________________________\n",
      "Layer (type)                 Output Shape              Param #   \n",
      "=================================================================\n",
      "time_distributed (TimeDistri (None, 3, 512)            2994048   \n",
      "_________________________________________________________________\n",
      "lstm (LSTM)                  (None, 64)                147712    \n",
      "_________________________________________________________________\n",
      "dense (Dense)                (None, 1024)              66560     \n",
      "_________________________________________________________________\n",
      "dropout (Dropout)            (None, 1024)              0         \n",
      "_________________________________________________________________\n",
      "dense_1 (Dense)              (None, 512)               524800    \n",
      "_________________________________________________________________\n",
      "dropout_1 (Dropout)          (None, 512)               0         \n",
      "_________________________________________________________________\n",
      "dense_2 (Dense)              (None, 128)               65664     \n",
      "_________________________________________________________________\n",
      "dropout_2 (Dropout)          (None, 128)               0         \n",
      "_________________________________________________________________\n",
      "dense_3 (Dense)              (None, 64)                8256      \n",
      "_________________________________________________________________\n",
      "dense_4 (Dense)              (None, 327)               21255     \n",
      "=================================================================\n",
      "Total params: 3,828,295\n",
      "Trainable params: 3,826,759\n",
      "Non-trainable params: 1,536\n",
      "_________________________________________________________________\n",
      "Loading model from models/model_5.916_1.h5\n",
      "Loaded model loss 5.916\n",
      "Model: \"sequential_1\"\n",
      "_________________________________________________________________\n",
      "Layer (type)                 Output Shape              Param #   \n",
      "=================================================================\n",
      "time_distributed (TimeDistri (None, 3, 512)            2994048   \n",
      "_________________________________________________________________\n",
      "lstm (LSTM)                  (None, 64)                147712    \n",
      "_________________________________________________________________\n",
      "dense (Dense)                (None, 1024)              66560     \n",
      "_________________________________________________________________\n",
      "dropout (Dropout)            (None, 1024)              0         \n",
      "_________________________________________________________________\n",
      "dense_1 (Dense)              (None, 512)               524800    \n",
      "_________________________________________________________________\n",
      "dropout_1 (Dropout)          (None, 512)               0         \n",
      "_________________________________________________________________\n",
      "dense_2 (Dense)              (None, 128)               65664     \n",
      "_________________________________________________________________\n",
      "dropout_2 (Dropout)          (None, 128)               0         \n",
      "_________________________________________________________________\n",
      "dense_3 (Dense)              (None, 64)                8256      \n",
      "_________________________________________________________________\n",
      "dense_4 (Dense)              (None, 327)               21255     \n",
      "=================================================================\n",
      "Total params: 3,828,295\n",
      "Trainable params: 3,826,759\n",
      "Non-trainable params: 1,536\n",
      "_________________________________________________________________\n"
     ]
    }
   ],
   "source": [
    "models = []\r\n",
    "for i in os.listdir(MODELDIR):\r\n",
    "    models.append(geoLSTM.Geoguessr.load(MODELDIR + '/' +i))"
   ]
  },
  {
   "cell_type": "code",
   "execution_count": 19,
   "id": "078fd81d",
   "metadata": {},
   "outputs": [
    {
     "name": "stdout",
     "output_type": "stream",
     "text": [
      "Evaluated 0 out of 1 points\n",
      "Evaluated 0 out of 1 points\n",
      "Evaluated 0 out of 1 points\n",
      "Evaluated 0 out of 1 points\n"
     ]
    }
   ],
   "source": [
    "trainableParams = []\r\n",
    "avgDistanceError = []\r\n",
    "for gm in models:\r\n",
    "    trainableParams.append(sum([tf.keras.backend.count_params(i) for i in gm.model.trainable_weights]))\r\n",
    "    avgDistanceError.append(gm.evaluate(TESF, DATACOMBINED, indPolyGrid))"
   ]
  },
  {
   "cell_type": "code",
   "execution_count": 20,
   "id": "1ea8d5c0",
   "metadata": {},
   "outputs": [
    {
     "data": {
      "image/png": "[encoded data removed]",
      "text/plain": [
       "<Figure size 432x288 with 1 Axes>"
      ]
     },
     "metadata": {
      "needs_background": "light"
     },
     "output_type": "display_data"
    }
   ],
   "source": [
    "plt.bar(np.arange(len(trainableParams)), height=avgDistanceError)\r\n",
    "plt.xticks(np.arange(len(trainableParams)), trainableParams)\r\n",
    "plt.xlabel(\"Trainabel paramers per model\")\r\n",
    "plt.ylabel(\"Average miles\")\r\n",
    "plt.title(\"Average miles per model\")\r\n",
    "plt.show()"
   ]
  }
 ],
 "metadata": {
  "kernelspec": {
   "display_name": "Python 3 (ipykernel)",
   "language": "python",
   "name": "python3"
  },
  "language_info": {
   "codemirror_mode": {
    "name": "ipython",
    "version": 3
   },
   "file_extension": ".py",
   "mimetype": "text/x-python",
   "name": "python",
   "nbconvert_exporter": "python",
   "pygments_lexer": "ipython3",
   "version": "3.8.10"
  }
 },
 "nbformat": 4,
 "nbformat_minor": 5
}
