{
 "cells": [
  {
   "cell_type": "code",
   "execution_count": 1,
   "id": "bdf072cc-0e24-431a-8d78-b74fdd1a3eb0",
   "metadata": {},
   "outputs": [
    {
     "name": "stderr",
     "output_type": "stream",
     "text": [
      "2021-07-18 15:24:11.135795: W tensorflow/stream_executor/platform/default/dso_loader.cc:64] Could not load dynamic library 'libcudart.so.11.0'; dlerror: libcudart.so.11.0: cannot open shared object file: No such file or directory\n",
      "2021-07-18 15:24:11.135854: I tensorflow/stream_executor/cuda/cudart_stub.cc:29] Ignore above cudart dlerror if you do not have a GPU set up on your machine.\n"
     ]
    }
   ],
   "source": [
    "from shapely.geometry import Point, Polygon\n",
    "from matplotlib import pyplot as plt\n",
    "from math import sin, cos, sqrt, atan2, radians\n",
    "\n",
    "import shapely\n",
    "import pickle\n",
    "import random\n",
    "import numpy as np\n",
    "import gmaps, os\n",
    "import tensorflow as tf\n",
    "from tensorflow.keras.preprocessing.image import load_img\n",
    "from tensorflow.keras.preprocessing.image import img_to_array\n",
    "from ipywidgets.embed import embed_minimal_html\n",
    "import webbrowser\n",
    "# The functions of Geoguessr class are loaded \n",
    "# from the geoLSTM.py file\n",
    "import geoLSTM"
   ]
  },
  {
   "cell_type": "code",
   "execution_count": 6,
   "id": "cbe9068f-8f9b-4b54-b36a-cd0fa851c2ea",
   "metadata": {},
   "outputs": [],
   "source": [
    "# directory containing data\n",
    "DATADIR = \"./data extract/data\"\n",
    "DATACOMBINED = \"./data extract/data combined/\"\n",
    "POLYDIR = \"./data extract\" \n",
    "# directory to store model in\n",
    "MODELDIR = \"models\"\n",
    "\n",
    "# Directory structure to use on Colab\n",
    "# UNCOMMENT FOR COLAB:\n",
    "\n",
    "# !pip install gmaps\n",
    "# DATADIR = '/content/drive/My Drive/location-guesser'\n",
    "# POLYDIR = '/content/drive/My Drive/location-guesser'\n",
    "# DATACOMBINED = DATADIR + \"/data combined/\"\n",
    "# MODELDIR = '/content/drive/My Drive/location-guesser/models'\n",
    "# import sys\n",
    "# sys.path.append(DATADIR)\n",
    "# import geoLSTM"
   ]
  },
  {
   "cell_type": "code",
   "execution_count": 9,
   "id": "06d1ddce-405e-4d9e-a3df-d7e2f590abf1",
   "metadata": {},
   "outputs": [
    {
     "ename": "FileNotFoundError",
     "evalue": "[Errno 2] No such file or directory: './data extract/data/train.npy'",
     "output_type": "error",
     "traceback": [
      "\u001b[0;31m---------------------------------------------------------------------------\u001b[0m",
      "\u001b[0;31mFileNotFoundError\u001b[0m                         Traceback (most recent call last)",
      "\u001b[0;32m/tmp/ipykernel_335/2119038521.py\u001b[0m in \u001b[0;36m<module>\u001b[0;34m\u001b[0m\n\u001b[1;32m      1\u001b[0m \u001b[0;31m# load training image file names\u001b[0m\u001b[0;34m\u001b[0m\u001b[0;34m\u001b[0m\u001b[0;34m\u001b[0m\u001b[0m\n\u001b[0;32m----> 2\u001b[0;31m \u001b[0mTF\u001b[0m \u001b[0;34m=\u001b[0m \u001b[0mnp\u001b[0m\u001b[0;34m.\u001b[0m\u001b[0mload\u001b[0m\u001b[0;34m(\u001b[0m\u001b[0mDATADIR\u001b[0m \u001b[0;34m+\u001b[0m \u001b[0;34m'/train.npy'\u001b[0m\u001b[0;34m)\u001b[0m\u001b[0;34m\u001b[0m\u001b[0;34m\u001b[0m\u001b[0m\n\u001b[0m\u001b[1;32m      3\u001b[0m \u001b[0;31m# load testing image file names\u001b[0m\u001b[0;34m\u001b[0m\u001b[0;34m\u001b[0m\u001b[0;34m\u001b[0m\u001b[0m\n\u001b[1;32m      4\u001b[0m \u001b[0mTESF\u001b[0m \u001b[0;34m=\u001b[0m \u001b[0mnp\u001b[0m\u001b[0;34m.\u001b[0m\u001b[0mload\u001b[0m\u001b[0;34m(\u001b[0m\u001b[0mDATADIR\u001b[0m \u001b[0;34m+\u001b[0m\u001b[0;34m'/test.npy'\u001b[0m\u001b[0;34m)\u001b[0m\u001b[0;34m\u001b[0m\u001b[0;34m\u001b[0m\u001b[0m\n\u001b[1;32m      5\u001b[0m \u001b[0mprint\u001b[0m\u001b[0;34m(\u001b[0m\u001b[0;34m\"Train files: {}, Test files: {}\"\u001b[0m\u001b[0;34m.\u001b[0m\u001b[0mformat\u001b[0m\u001b[0;34m(\u001b[0m\u001b[0mlen\u001b[0m\u001b[0;34m(\u001b[0m\u001b[0mTF\u001b[0m\u001b[0;34m)\u001b[0m\u001b[0;34m,\u001b[0m \u001b[0mlen\u001b[0m\u001b[0;34m(\u001b[0m\u001b[0mTESF\u001b[0m\u001b[0;34m)\u001b[0m\u001b[0;34m)\u001b[0m\u001b[0;34m)\u001b[0m\u001b[0;34m\u001b[0m\u001b[0;34m\u001b[0m\u001b[0m\n",
      "\u001b[0;32m~/.local/lib/python3.8/site-packages/numpy/lib/npyio.py\u001b[0m in \u001b[0;36mload\u001b[0;34m(file, mmap_mode, allow_pickle, fix_imports, encoding)\u001b[0m\n\u001b[1;32m    414\u001b[0m             \u001b[0mown_fid\u001b[0m \u001b[0;34m=\u001b[0m \u001b[0;32mFalse\u001b[0m\u001b[0;34m\u001b[0m\u001b[0;34m\u001b[0m\u001b[0m\n\u001b[1;32m    415\u001b[0m         \u001b[0;32melse\u001b[0m\u001b[0;34m:\u001b[0m\u001b[0;34m\u001b[0m\u001b[0;34m\u001b[0m\u001b[0m\n\u001b[0;32m--> 416\u001b[0;31m             \u001b[0mfid\u001b[0m \u001b[0;34m=\u001b[0m \u001b[0mstack\u001b[0m\u001b[0;34m.\u001b[0m\u001b[0menter_context\u001b[0m\u001b[0;34m(\u001b[0m\u001b[0mopen\u001b[0m\u001b[0;34m(\u001b[0m\u001b[0mos_fspath\u001b[0m\u001b[0;34m(\u001b[0m\u001b[0mfile\u001b[0m\u001b[0;34m)\u001b[0m\u001b[0;34m,\u001b[0m \u001b[0;34m\"rb\"\u001b[0m\u001b[0;34m)\u001b[0m\u001b[0;34m)\u001b[0m\u001b[0;34m\u001b[0m\u001b[0;34m\u001b[0m\u001b[0m\n\u001b[0m\u001b[1;32m    417\u001b[0m             \u001b[0mown_fid\u001b[0m \u001b[0;34m=\u001b[0m \u001b[0;32mTrue\u001b[0m\u001b[0;34m\u001b[0m\u001b[0;34m\u001b[0m\u001b[0m\n\u001b[1;32m    418\u001b[0m \u001b[0;34m\u001b[0m\u001b[0m\n",
      "\u001b[0;31mFileNotFoundError\u001b[0m: [Errno 2] No such file or directory: './data extract/data/train.npy'"
     ]
    }
   ],
   "source": [
    "# load training image file names\n",
    "TF = np.load(DATADIR + '/train.npy')\n",
    "# load testing image file names\n",
    "TESF = np.load(DATADIR +'/test.npy')\n",
    "print(\"Train files: {}, Test files: {}\".format(len(TF), len(TESF)))"
   ]
  },
  {
   "cell_type": "code",
   "execution_count": 10,
   "id": "ca41fea7-3beb-4ca2-b16a-6a7005c4dad1",
   "metadata": {},
   "outputs": [
    {
     "name": "stdout",
     "output_type": "stream",
     "text": [
      "93\n"
     ]
    },
    {
     "data": {
      "image/png": "[encoded data removed]",
      "text/plain": [
       "<Figure size 432x288 with 1 Axes>"
      ]
     },
     "metadata": {
      "needs_background": "light"
     },
     "output_type": "display_data"
    }
   ],
   "source": [
    "# load split grid file\n",
    "indPolyGrid = pickle.load(open(POLYDIR + \"/indPolyGrid.pkl\",'rb'))\n",
    "for i in indPolyGrid.values():\n",
    "    plt.plot(i[:,1],i[:,0], color='black')\n",
    "print(len(indPolyGrid))"
   ]
  },
  {
   "cell_type": "code",
   "execution_count": 11,
   "id": "2166b648-1de6-4ccf-8c90-e2b6e40aecd2",
   "metadata": {},
   "outputs": [
    {
     "name": "stderr",
     "output_type": "stream",
     "text": [
      "2021-07-18 15:35:47.347638: W tensorflow/stream_executor/platform/default/dso_loader.cc:64] Could not load dynamic library 'libcuda.so.1'; dlerror: libcuda.so.1: cannot open shared object file: No such file or directory\n",
      "2021-07-18 15:35:47.348316: W tensorflow/stream_executor/cuda/cuda_driver.cc:326] failed call to cuInit: UNKNOWN ERROR (303)\n",
      "2021-07-18 15:35:47.348716: I tensorflow/stream_executor/cuda/cuda_diagnostics.cc:156] kernel driver does not appear to be running on this host (LAPTOP-ESSUPEF6): /proc/driver/nvidia/version does not exist\n",
      "2021-07-18 15:35:47.353722: I tensorflow/core/platform/cpu_feature_guard.cc:142] This TensorFlow binary is optimized with oneAPI Deep Neural Network Library (oneDNN) to use the following CPU instructions in performance-critical operations:  AVX2 FMA\n",
      "To enable them in other operations, rebuild TensorFlow with the appropriate compiler flags.\n"
     ]
    },
    {
     "name": "stdout",
     "output_type": "stream",
     "text": [
      "Model: \"sequential_1\"\n",
      "_________________________________________________________________\n",
      "Layer (type)                 Output Shape              Param #   \n",
      "=================================================================\n",
      "time_distributed (TimeDistri (None, 3, 512)            2994048   \n",
      "_________________________________________________________________\n",
      "lstm (LSTM)                  (None, 64)                147712    \n",
      "_________________________________________________________________\n",
      "dense (Dense)                (None, 1024)              66560     \n",
      "_________________________________________________________________\n",
      "dropout (Dropout)            (None, 1024)              0         \n",
      "_________________________________________________________________\n",
      "dense_1 (Dense)              (None, 512)               524800    \n",
      "_________________________________________________________________\n",
      "dropout_1 (Dropout)          (None, 512)               0         \n",
      "_________________________________________________________________\n",
      "dense_2 (Dense)              (None, 128)               65664     \n",
      "_________________________________________________________________\n",
      "dropout_2 (Dropout)          (None, 128)               0         \n",
      "_________________________________________________________________\n",
      "dense_3 (Dense)              (None, 64)                8256      \n",
      "_________________________________________________________________\n",
      "dense_4 (Dense)              (None, 243)               15795     \n",
      "=================================================================\n",
      "Total params: 3,822,835\n",
      "Trainable params: 3,821,299\n",
      "Non-trainable params: 1,536\n",
      "_________________________________________________________________\n"
     ]
    }
   ],
   "source": [
    "geo_model = geoLSTM.Geoguessr(useRestnet=False)"
   ]
  },
  {
   "cell_type": "code",
   "execution_count": null,
   "id": "0c0720fa-2baa-4a00-9e7f-a84f9302d1e2",
   "metadata": {},
   "outputs": [],
   "source": [
    "geo_model.fit(TF, DATACOMBINED, \n",
    "      saveFolder=MODELDIR, \n",
    "      batchSize=4, \n",
    "      epochs=2,  \n",
    "      plot=True)"
   ]
  },
  {
   "cell_type": "code",
   "execution_count": null,
   "id": "b557f1e2-2a9c-411b-8db7-59f556f49ffe",
   "metadata": {},
   "outputs": [],
   "source": [
    "# modelName = '/restnet_5.738_19.h5'\n",
    "model_name = '/nonrestNet_5.744_12.h5'\n",
    "geo_model = geoLSTM.Geoguessr.load(MODELDIR + model_name)"
   ]
  },
  {
   "cell_type": "code",
   "execution_count": null,
   "id": "4561e5df-6a95-474a-8db5-ebf2d6c07aca",
   "metadata": {},
   "outputs": [],
   "source": [
    "geo_model.predictSingle(TESF[0], DATACOMBINED, ployGrid=indPolyGrid)"
   ]
  },
  {
   "cell_type": "code",
   "execution_count": null,
   "id": "0a75f3aa-a59d-4f86-a788-b6de4143854d",
   "metadata": {},
   "outputs": [],
   "source": [
    "geo_model.evaluate(TESF, DATACOMBINED, indPolyGrid)"
   ]
  }
 ],
 "metadata": {
  "kernelspec": {
   "display_name": "Python 3 (ipykernel)",
   "language": "python",
   "name": "python3"
  },
  "language_info": {
   "codemirror_mode": {
    "name": "ipython",
    "version": 3
   },
   "file_extension": ".py",
   "mimetype": "text/x-python",
   "name": "python",
   "nbconvert_exporter": "python",
   "pygments_lexer": "ipython3",
   "version": "3.8.10"
  }
 },
 "nbformat": 4,
 "nbformat_minor": 5
}
