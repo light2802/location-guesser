{
 "cells": [
  {
   "cell_type": "code",
   "execution_count": null,
   "source": [
    "key = '################################################################'"
   ],
   "outputs": [],
   "metadata": {}
  },
  {
   "cell_type": "code",
   "execution_count": null,
   "source": [
    "import requests\r\n",
    "import json, os\r\n",
    "import urllib.request\r\n",
    "from shapely.geometry import Point, Polygon\r\n",
    "from matplotlib import pyplot as plt\r\n",
    "import shapely\r\n",
    "import pickle\r\n",
    "import random\r\n",
    "import numpy as np\r\n",
    "import gmaps\r\n",
    "# make sure this points to the file the data is to be saved in\r\n",
    "data_dir = \"./data\""
   ],
   "outputs": [],
   "metadata": {}
  },
  {
   "cell_type": "code",
   "execution_count": null,
   "source": [
    "def plot_map(poly_grid,Loc=[],restrict=[]):\r\n",
    "    g_poly = []\r\n",
    "    s_loc = []\r\n",
    "    s_htext = []\r\n",
    "    if len(restrict)==0 :\r\n",
    "        restrict = list(poly_grid.keys())\r\n",
    "    \r\n",
    "    for k,v in poly_grid.items():\r\n",
    "        if k in restrict :\r\n",
    "            g_poly.append(gmaps.Polygon(\r\n",
    "                                        list(v),\r\n",
    "                                        stroke_color='blue',\r\n",
    "                                        fill_color='red'\r\n",
    "                                        ))\r\n",
    "            s_loc.append((v[0][0],v[0][1]))\r\n",
    "            s_htext.append(str(k))\r\n",
    "    if len(Loc)!=0 :\r\n",
    "        s_loc = []\r\n",
    "        s_htext = []\r\n",
    "        for k,v in Loc.items() :\r\n",
    "            if k in restrict :\r\n",
    "                s_loc += v\r\n",
    "                s_htext += [str(k)+str(i) for i in v]\r\n",
    "    fig = gmaps.figure(center=(20.5937,78.9629), zoom_level=4, map_type='TERRAIN')\r\n",
    "    fig.add_layer(gmaps.drawing_layer(features=g_poly))\r\n",
    "    fig.add_layer(gmaps.symbol_layer(s_loc,info_box_content=s_htext,scale=1))\r\n",
    "    return fig"
   ],
   "outputs": [],
   "metadata": {}
  },
  {
   "cell_type": "code",
   "execution_count": null,
   "source": [
    "indPolyGrid = pickle.load(open(\"indPolyGrid.pkl\",\"rb\"))\n",
    "for i in indPolyGrid.values():\n",
    "    plt.plot(i[:,1],i[:,0])\n",
    "print(len(indPolyGrid))"
   ],
   "outputs": [],
   "metadata": {}
  },
  {
   "cell_type": "code",
   "execution_count": null,
   "source": [
    "plot_map(indPolyGrid, restrict=[0])"
   ],
   "outputs": [],
   "metadata": {}
  },
  {
   "cell_type": "code",
   "execution_count": null,
   "source": [
    "#search_grids = indPolyGrid.keys()\n",
    "search_grids = list(range(50,60))\n",
    "print(\"Searching grids : {}\".format(\"All\" if search_grids==indPolyGrid.keys() else search_grids))"
   ],
   "outputs": [],
   "metadata": {}
  },
  {
   "cell_type": "code",
   "execution_count": null,
   "source": [
    "base = 'https://maps.googleapis.com/maps/api/streetview'\n",
    "ext = '?size=600x300&location={}&fov=100&heading={}&radius={}&pitch=10&key={}'\n",
    "print(\"Seacrching Grids: {}\".format(\"All\" if search_grids==indPolyGrid.keys() else search_grids))\n",
    "for grid,coor in indPolyGrid.items():\n",
    "    poly = Polygon(np.flip(coor))\n",
    "    minx,miny,maxx,maxy = poly.bounds\n",
    "    count = 0\n",
    "    trials = 0\n",
    "    loc_list = []\n",
    "    if grid in search_grids :\n",
    "        save_folder = data_dir+'/{}'.format(grid)\n",
    "        if os.path.exists(save_folder)==False :\n",
    "            os.mkdir(save_folder)\n",
    "        loc_list = os.listdir(save_folder)\n",
    "        print(\"################## Searching grid {} ###################\".format(grid))\n",
    "        print(\"Save folder {}\".format(save_folder))\n",
    "        print(\"Existing locations {}\".format(loc_list))\n",
    "        while count<20 and trials<10:\n",
    "            point = Point(random.uniform(minx,maxx),random.uniform(miny,maxy))\n",
    "            location = str(point.y)+','+str(point.x)\n",
    "            if (poly.contains(point)) and (location not in loc_list):\n",
    "                meta_url = base + '/metadata' + ext.format(location,0,1000,key)\n",
    "                r = requests.get(meta_url).json()\n",
    "                trials += 1\n",
    "                print(\"Trial : {}, count : {}\".format(trials,count))\n",
    "                if r['status']=='OK' and poly.contains(Point(r['location']['lng'],r['location']['lat'])):\n",
    "                    location = str(r['location']['lng'])+ ',' +str(r['location']['lat'])\n",
    "                    if location not in loc_list :\n",
    "                        print(\"Valid location found: {}\".format(location))\n",
    "                        loc_list.append(location)\n",
    "                        save_file = save_folder + \"/{}\".format(location)\n",
    "                        if os.path.exists(save_file)==False:\n",
    "                            os.mkdir(save_file)\n",
    "                        for heading in [0,90,180]:\n",
    "                            img_url = base + ext.format(location,heading,1000,key)\n",
    "                            urllib.request.urlretrieve(img_url,save_file+'/{}_{}.jpg'.format(heading,r['date']))\n",
    "                            count += 1\n",
    "                            trials = 0\n",
    "                    else :\n",
    "                        print(\"Failed trial {} location exist in folder\".format(trials))\n",
    "                        print(\"Location : {}\".format(location))\n",
    "        print(loc_list)\n",
    "        print(\"No duplicates : {}\".format(len(loc_list)==len(set(loc_list))))\n",
    "        print(\"########## Final locations for grid {}: {} ############\".format(grid, len(loc_list)))"
   ],
   "outputs": [],
   "metadata": {}
  },
  {
   "cell_type": "code",
   "execution_count": null,
   "source": [
    "gds_loc = {}\n",
    "for g in os.listdir(data_dir):\n",
    "    gds_loc[int(g)] = []\n",
    "    for loc in os.listdir(data_dir + \"/{}\".format(g)):\n",
    "        loc_list = list(map(lambda x:float(x),loc.split(',')))\n",
    "        gds_loc[int(g)].append(loc_list)\n"
   ],
   "outputs": [],
   "metadata": {}
  },
  {
   "cell_type": "code",
   "execution_count": null,
   "source": [
    "grid = 51\n",
    "print(\"Grid {} has {} locations\".format(grid,len(gds_loc[grid])))\n",
    "for lc in gds_loc[grid]:\n",
    "    loc = ','.join([str(i) for i in lc])\n",
    "    print(loc)\n",
    "    for img in os.listdir(data_dir + \"/{}/{}\".format(grid,loc)):\n",
    "        image = plt.imread(data_dir + \"/{}/{}/{}\".format(grid,loc,img))\n",
    "        plt.imshow(image)\n",
    "        plt.show()"
   ],
   "outputs": [],
   "metadata": {}
  },
  {
   "cell_type": "code",
   "execution_count": null,
   "source": [
    "plot_map(indPolyGrid, Loc=gds_loc, restrict=[230])"
   ],
   "outputs": [],
   "metadata": {}
  }
 ],
 "metadata": {
  "kernelspec": {
   "display_name": "Python 3 (ipykernel)",
   "language": "python",
   "name": "python3"
  },
  "language_info": {
   "codemirror_mode": {
    "name": "ipython",
    "version": 3
   },
   "file_extension": ".py",
   "mimetype": "text/x-python",
   "name": "python",
   "nbconvert_exporter": "python",
   "pygments_lexer": "ipython3",
   "version": "3.8.10"
  }
 },
 "nbformat": 4,
 "nbformat_minor": 5
}