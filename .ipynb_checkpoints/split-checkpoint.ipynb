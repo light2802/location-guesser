{
 "cells": [
  {
   "cell_type": "code",
   "execution_count": 15,
   "id": "59d6974d-1ce8-48ec-9b56-e0bdb37940ca",
   "metadata": {},
   "outputs": [],
   "source": [
    "import os\n",
    "import matplotlib.pyplot as plt\n",
    "import numpy as np\n",
    "data_dir = \"./data\""
   ]
  },
  {
   "cell_type": "code",
   "execution_count": 6,
   "id": "48ddc9a5-a7c4-4e77-97a5-a22c7b74d899",
   "metadata": {},
   "outputs": [
    {
     "name": "stdout",
     "output_type": "stream",
     "text": [
      "Loaded 10 grid\n"
     ]
    }
   ],
   "source": [
    "gds_loc = {}\n",
    "for g in os.listdir(data_dir):\n",
    "    gds_loc[int(g)] = []\n",
    "    gds_loc[int(g)] = os.listdir(data_dir+\"/{}\".format(g))\n",
    "print(\"Loaded {} grid\".format(len(gds_loc)))"
   ]
  },
  {
   "cell_type": "code",
   "execution_count": 18,
   "id": "4c3bfe78-94c3-456c-bd71-8de09e904682",
   "metadata": {},
   "outputs": [
    {
     "name": "stdout",
     "output_type": "stream",
     "text": [
      "7 location data available\n"
     ]
    }
   ],
   "source": [
    "all_files = []\n",
    "data_combined_dir = \"./data combined\"\n",
    "count = 1\n",
    "for grid ,loc in gds_loc.items():\n",
    "    for location in loc:\n",
    "        new_loc_file =\"{}/{}+{}\".format(data_combined_dir,grid,location)\n",
    "        os.mkdir(new_loc_file)\n",
    "        all_files.append(\"{}+{}\".format(grid,location))\n",
    "        for img in os.listdir(data_dir+\"/{}/{}\".format(grid,location)):\n",
    "            image = plt.imread(data_dir+\"/{}/{}/{}\".format(grid,location,img))\n",
    "            plt.imsave(new_loc_file+'/{}'.format(img),image)\n",
    "            count+=1\n",
    "        if count%3000==0:\n",
    "            print(\"Completed {} images\".format(count))\n",
    "print(\"{} location data available\".format(len(all_files)))"
   ]
  },
  {
   "cell_type": "code",
   "execution_count": 20,
   "id": "01c2c162-0c43-4f82-b0ff-42ae322cdebc",
   "metadata": {},
   "outputs": [
    {
     "name": "stdout",
     "output_type": "stream",
     "text": [
      "Split into 6 training and 1 testing\n"
     ]
    }
   ],
   "source": [
    "all_files = np.array(all_files)\n",
    "np.random.shuffle(all_files)\n",
    "train_files = all_files[:int(len(all_files)*0.9)]\n",
    "np.random.shuffle(train_files)\n",
    "test_files = all_files[int(len(all_files)*0.9):]\n",
    "np.random.shuffle(test_files)\n",
    "print(\"Split into {} training and {} testing\".format(len(train_files),len(test_files)))"
   ]
  },
  {
   "cell_type": "code",
   "execution_count": 21,
   "id": "7edcf045-4d48-41bb-9be8-1ea7f52a3cca",
   "metadata": {},
   "outputs": [],
   "source": [
    "np.save('train.npy',train_files)\n",
    "np.save('test.npy',test_files)"
   ]
  },
  {
   "cell_type": "code",
   "execution_count": null,
   "id": "acb6e4c2-e9c0-4658-8a4d-5dd4f6f7ef05",
   "metadata": {},
   "outputs": [],
   "source": []
  }
 ],
 "metadata": {
  "kernelspec": {
   "display_name": "Python 3 (ipykernel)",
   "language": "python",
   "name": "python3"
  },
  "language_info": {
   "codemirror_mode": {
    "name": "ipython",
    "version": 3
   },
   "file_extension": ".py",
   "mimetype": "text/x-python",
   "name": "python",
   "nbconvert_exporter": "python",
   "pygments_lexer": "ipython3",
   "version": "3.8.10"
  }
 },
 "nbformat": 4,
 "nbformat_minor": 5
}
